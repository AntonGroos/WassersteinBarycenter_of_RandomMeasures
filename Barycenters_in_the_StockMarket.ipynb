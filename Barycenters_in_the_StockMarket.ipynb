{
 "cells": [
  {
   "cell_type": "markdown",
   "metadata": {},
   "source": [
    "# Barycenters of stock portfolios utilizing a greedy free support OT barycenter algorith based on McCann-interpolations by Johannes von Lindheim."
   ]
  },
  {
   "cell_type": "code",
   "execution_count": 1,
   "metadata": {},
   "outputs": [],
   "source": [
    "import numpy as np\n",
    "import pandas as pd\n",
    "import matplotlib.pyplot as plt\n",
    "from scipy.spatial.distance import squareform, pdist, cdist\n",
    "from scipy.spatial import minkowski_distance\n",
    "from copy import deepcopy\n",
    "from sklearn.decomposition import PCA\n",
    "import ot\n",
    "import imageio\n",
    "import itertools\n",
    "import datetime\n",
    "import pickle\n",
    "from tqdm.notebook import tqdm\n",
    "import os"
   ]
  },
  {
   "cell_type": "markdown",
   "metadata": {},
   "source": [
    "The random seed is set. This ensures reproducability of the results."
   ]
  },
  {
   "cell_type": "code",
   "execution_count": 2,
   "metadata": {},
   "outputs": [],
   "source": [
    "np.set_printoptions(suppress=True, precision=5)\n",
    "rng = np.random.default_rng(1000)"
   ]
  },
  {
   "cell_type": "markdown",
   "metadata": {},
   "source": [
    "The next functions were written by Johannes von Lindheim with some slight modifications by me. The first two are used for the visualization of the resulting OT \n",
    "barycenters. "
   ]
  },
  {
   "cell_type": "code",
   "execution_count": 3,
   "metadata": {},
   "outputs": [],
   "source": [
    "def posns_n_nis_d(posns, heights, min_height=0.0):\n",
    "    '''\n",
    "    Given a positions and heights array, figure out (and make security checks for) the number of measures, number\n",
    "    of support points array and dimension. Also modify posns to array, if given only one array for all measures.\n",
    "    '''    \n",
    "    # if given a list, we assume that we are given multiple measures and the length of the list is\n",
    "    # the number of measures\n",
    "    if isinstance(posns, list):\n",
    "        n = len(posns)\n",
    "        assert len(heights) == n, \"heights needs have same length as pos (equal number of measures)\"\n",
    "    # if given a 2d-array and a list of of height arrays, we assume that we are given a number of measures,\n",
    "    # which are all supported on the same posns-array, so the number of measures n is len(heights)\n",
    "    elif isinstance(posns, np.ndarray) and posns.ndim == 2 and (isinstance(heights, list) \\\n",
    "                                                                or (isinstance(heights, np.ndarray) and heights.ndim == 2)):\n",
    "        n = len(heights)\n",
    "        posns = [posns]*n\n",
    "    # if given a 3d-array and a 2d array of heights, we assume that we are given a number of measures that\n",
    "    # all have the same number of points\n",
    "    elif isinstance(posns, np.ndarray) and posns.ndim == 3:\n",
    "        n = posns.shape[0]\n",
    "        assert heights.shape[0] == n, \"heights needs have same length as pos (equal number of measures)\"\n",
    "        assert posns.shape[1] == heights.shape[1], \"number of points and number of height entries need to be the same\"\n",
    "        \n",
    "    # if given a 2d-array and a 1d-array of heights, assume that we are given only one measure\n",
    "    elif isinstance(posns, np.ndarray) and posns.ndim == 2 and isinstance(heights, np.ndarray) and heights.ndim == 1:\n",
    "        n = 1\n",
    "        posns = [posns]\n",
    "        heights = heights[None, :]\n",
    "    else:\n",
    "        raise ValueError(\"cannot see what the number of measures is\")\n",
    "    assert n >= 1, \"at least one measure needs to be given\"\n",
    "    assert all([pos.ndim == 2 for pos in posns]), \"position arrays need to be two-dimenional\"\n",
    "    posns = [pos[height > min_height] for (pos, height) in zip(posns, heights)] # throw out points with height <= 0\n",
    "    heights = [height[height > min_height] for height in heights]\n",
    "    nis = np.array([pos.shape[0] for pos in posns]) # number of support points for all measures\n",
    "    d = posns[0].shape[1]\n",
    "    return posns, heights, n, nis, d"
   ]
  },
  {
   "cell_type": "markdown",
   "metadata": {},
   "source": [
    "Following function produces a 2d plot. I added a principal component analysis (PCA) to this that is fitted to posns, which is the support of the barycenter. This ensures that the most relevant dimensions are displayed.   "
   ]
  },
  {
   "cell_type": "code",
   "execution_count": 4,
   "metadata": {},
   "outputs": [],
   "source": [
    "def scatter_atomic(posns, heights, n_plots_per_col=2, scale=5, invert=False, disk_size=6000/5, xmarkers=True,\n",
    "                   redxmarker_posns=None, bluexmarker_posns=None, axis_off=False, margin_fac=0.2, savepath=None, pca = False):\n",
    "    '''\n",
    "    Produce scatter plots for given\n",
    "    \n",
    "    posns: list of length n of position-arrays of shape (n_i, d), where n_i is the number of atoms in measure i\n",
    "    heights: array of shape (n, n_i), where n is the total number of measures\n",
    "    \n",
    "    pca: True/False - determines, if a principal component analysis should be perforemed in case the dismensions\n",
    "    are larger than 2.\n",
    "    '''\n",
    "    \n",
    "    if pca:\n",
    "        \n",
    "        pca_values = PCA(n_components=2)\n",
    "        posns = pca_values.fit_transform(posns)\n",
    "        \n",
    "        if redxmarker_posns is not None:\n",
    "            redxmarker_posns = pca_values.transform(redxmarker_posns)\n",
    "            \n",
    "        if bluexmarker_posns is not None:\n",
    "            bluexmarker_posns = pca_values.transform(bluexmarker_posns)            \n",
    "            \n",
    "    \n",
    "    posns, heights, n, nis, d = posns_n_nis_d(posns, heights)\n",
    "    n_plots = n\n",
    "    n_rows = np.ceil(n_plots / n_plots_per_col).astype(int)\n",
    "    n_cols = min(n_plots_per_col, n_plots)\n",
    "    figsize = (scale*n_cols, scale*n_rows)\n",
    "    fig, ax = plt.subplots(n_rows, n_cols, figsize=figsize, squeeze=False)\n",
    "\n",
    "    \n",
    "    xmin, xmax, ymin, ymax = (min([pos[:, 0].min() for pos in posns]),\n",
    "            max([pos[:, 0].max() for pos in posns]),\n",
    "            min([pos[:, 1].min() for pos in posns]), \n",
    "            max([pos[:, 1].max() for pos in posns]))\n",
    "    \n",
    "      \n",
    "    for i in range(n_rows):\n",
    "        for j in range(n_cols):\n",
    "            idx = i*n_plots_per_col + j\n",
    "            if idx >= n_plots or axis_off:\n",
    "                ax[i, j].axis('off')\n",
    "                if idx >= n_plots:\n",
    "                    continue\n",
    "            pos = posns[idx]\n",
    "            height = heights[idx]\n",
    "            \n",
    "            # set plot dimensions\n",
    "            xmargin = margin_fac*(xmax-xmin)\n",
    "            ymargin = margin_fac*(ymax-ymin)\n",
    "            #ax[i, j].set_xlim([xmin-xmargin, xmax+xmargin])\n",
    "            #ax[i, j].set_ylim([ymin-ymargin, ymax+ymargin])\n",
    "            ax[i, j].set_aspect('equal')\n",
    "            \n",
    "            # plot            \n",
    "            ax[i, j].scatter(pos[:, 0], pos[:, 1], marker='o', s=height*disk_size*scale, c='gray', alpha=0.5)\n",
    "            if xmarkers:\n",
    "                \n",
    "                ax[i, j].scatter(pos[:, 0], pos[:, 1], marker='x', c='red')\n",
    "                \n",
    "            if redxmarker_posns is not None:\n",
    "\n",
    "                ax[i, j].scatter(redxmarker_posns[:, 0], redxmarker_posns[:, 1], marker='x', c='red')\n",
    "            \n",
    "            if bluexmarker_posns is not None:\n",
    "\n",
    "                ax[i, j].scatter(bluexmarker_posns[:, 0], bluexmarker_posns[:, 1], marker='x', c='blue')\n",
    "                \n",
    "\n",
    "            if invert:\n",
    "                ax[i, j].set_ylim(ax[i, j].get_ylim()[::-1])\n",
    "                \n",
    "    if savepath is not None:\n",
    "        plt.savefig(savepath, dpi=300, pad_inches=0, bbox_inches='tight')"
   ]
  },
  {
   "cell_type": "markdown",
   "metadata": {},
   "source": [
    "The next two functions bary_hierarchial and bary_barycost are the greedy OT barycenter algorithms."
   ]
  },
  {
   "cell_type": "code",
   "execution_count": 5,
   "metadata": {},
   "outputs": [],
   "source": [
    "def bary_hierarchical(posns, heights, weights=None, verbose=0):\n",
    "    \"\"\"\n",
    "    Barycenter method, which iteratively merges measures using the McCann-interpolation.\n",
    "\n",
    "    posns: Dirac positions list/array of length n. Can be given just a 2d-array, if the positions are always the same.\n",
    "    heights: weights of the Dirac positions (need to sum to one)\n",
    "    weights: weights of the n measures. If None is given, choose uniform weights.\n",
    "    verbose: verbosity level    \n",
    "    \"\"\"\n",
    "    \n",
    "    posns, heights, n, nis, d = posns_n_nis_d(posns, heights)\n",
    "    if verbose >= 1:\n",
    "        print(n, nis, d)\n",
    "    if weights is None:\n",
    "        weights = np.ones((n,)) / n\n",
    "    \n",
    "    # init set of current barycenters to be the given measures\n",
    "    barys_pos = deepcopy(posns)\n",
    "    barys_heights = deepcopy(heights)\n",
    "    barys_weights = deepcopy(weights)\n",
    "    \n",
    "    while len(barys_pos) > 1: # while there is still measures to merge\n",
    "        \n",
    "        n_new = (len(barys_pos) // 2) + (len(barys_pos) % 2)\n",
    "        barys_pos_new = [None]*n_new\n",
    "        barys_heights_new = [None]*n_new\n",
    "        barys_weights_new = np.zeros(n_new)\n",
    "        if len(barys_pos) % 2 == 1: # leave last measure unmatched, if current n is odd\n",
    "            barys_pos_new[-1] = barys_pos[-1]\n",
    "            barys_heights_new[-1] = barys_heights[-1]\n",
    "            barys_weights_new[-1] = barys_weights[-1]\n",
    "        \n",
    "        for i in range(len(barys_pos) // 2): # this loop could be parallelized\n",
    "            \n",
    "            # compute W2 optimal transport between current barycenter and measure i\n",
    "            pos0, pos1 = barys_pos[2*i], barys_pos[2*i+1]\n",
    "            h0, h1 = barys_heights[2*i], barys_heights[2*i+1]\n",
    "            w0, w1 = barys_weights[2*i], barys_weights[2*i+1]\n",
    "            c = cdist(pos0, pos1, metric='sqeuclidean')\n",
    "            pi = ot.emd(h0, h1, c)\n",
    "            \n",
    "            # merge them using the McCann-interpolation\n",
    "            nzrows, nzcols = pi.nonzero()\n",
    "            barys_pos_new[i] = w0/(w0+w1) * pos0[nzrows] + w1/(w0+w1) * pos1[nzcols]\n",
    "            barys_heights_new[i] = pi[nzrows, nzcols]\n",
    "            barys_weights_new[i] = w0+w1\n",
    "        \n",
    "        barys_pos = deepcopy(barys_pos_new)\n",
    "        barys_heights = deepcopy(barys_heights_new)\n",
    "        barys_weights = barys_weights_new.copy()\n",
    "    \n",
    "    return barys_pos[0], barys_heights[0]"
   ]
  },
  {
   "cell_type": "markdown",
   "metadata": {},
   "source": [
    "Now we are going to unpack the data. That is the $\\mathbb{R}^{30}$ embedding of stocks on the Korean stock market in 2016."
   ]
  },
  {
   "cell_type": "code",
   "execution_count": 6,
   "metadata": {},
   "outputs": [],
   "source": [
    "f = np.loadtxt('sentences.refined.vectors.txt', dtype = str)\n",
    "\n",
    "STOCK_LISTINGS = f[:,0]\n",
    "\n",
    "f = np.delete(f, 0, axis = 1).astype(float)\n",
    "\n",
    "nr_stocks, dim = np.shape(f)"
   ]
  },
  {
   "cell_type": "markdown",
   "metadata": {},
   "source": [
    "Now, we introduce some utility functions on this embedding.\n"
   ]
  },
  {
   "cell_type": "code",
   "execution_count": 7,
   "metadata": {},
   "outputs": [],
   "source": [
    "def dist(location1, location2):\n",
    "     \n",
    "    distance = np.linalg.norm(location1 - location2)\n",
    "    \n",
    "    return distance\n",
    "\n",
    "def dist_from_code(stock1, stock2, codes, vectors):\n",
    "        \n",
    "    index1 = np.where(codes == stock1)[0]\n",
    "    index2 = np.where(codes == stock2)[0]\n",
    "    distance = np.linalg.norm(vectors[index1,:] - vectors[index2,:])\n",
    "    \n",
    "    return distance    \n",
    "\n",
    "def closest(position, codes, vectors):\n",
    "    \n",
    "    nr_stocks, dim = vectors.shape\n",
    "    \n",
    "    distances = np.zeros(nr_stocks)\n",
    "    \n",
    "    for i in range(nr_stocks):\n",
    "        \n",
    "        distances[i] = np.linalg.norm(position - vectors[i,:])\n",
    "        \n",
    "    index_smallest = np.where(distances == np.amin(distances))\n",
    "    \n",
    "    return codes[index_smallest][0], np.array(vectors[index_smallest][0])\n",
    "\n",
    "def create_dist_matrix(vectors):\n",
    "    \n",
    "    n = len(vectors)\n",
    "    A = np.empty((n,n), dtype = float)\n",
    "    \n",
    "    for i in range(n):\n",
    "        \n",
    "        # could use some improvements to take advantage of symmetry\n",
    "        \n",
    "        A[:,i] = A[i,:] = minkowski_distance(vectors[i], vectors, 2)\n",
    "    \n",
    "    return A\n"
   ]
  },
  {
   "cell_type": "markdown",
   "metadata": {},
   "source": [
    "Here, we intruduce variables based on the choice of stocks we made. In our case these where:  \n",
    "- LG Electronics\n",
    "- Hanexpress\n",
    "- SAMSUNG SDI\n",
    "- KUMHO Engineering & Construction\n",
    "- KIA Motors"
   ]
  },
  {
   "cell_type": "code",
   "execution_count": 17,
   "metadata": {},
   "outputs": [],
   "source": [
    "# the positions of our choice of stocks.\n",
    "posns = np.array([f[44,:], f[60,:], f[96,:], f[155,:], f[514,:]])\n",
    "\n",
    "# the center of the positions of our stocks.\n",
    "center = np.array([np.sum(posns, axis = 0)/(len(posns))])\n",
    "\n",
    "# a dummy variable and the stock that is closest to the center. \n",
    "dummy, closest_center = closest(center, STOCK_LISTINGS, f)\n",
    "closest_center = np.array([closest_center])\n",
    "\n",
    "# dimension variables.\n",
    "nr_pos, dim = posns.shape"
   ]
  },
  {
   "cell_type": "markdown",
   "metadata": {},
   "source": [
    "Next we introduce variables for the dirichlet distribution and their results."
   ]
  },
  {
   "cell_type": "code",
   "execution_count": 9,
   "metadata": {},
   "outputs": [],
   "source": [
    "# Number of samples from distribution.\n",
    "samples = 5000\n",
    "\n",
    "# The parameter of the dirichlet distribution.\n",
    "alpha = 0.001\n",
    "dirichlet_para = np.ones(nr_pos)*alpha\n",
    "\n",
    "# The resulting heights (ammount of mass in each stock) based an the dirichlet distribution.\n",
    "heights = np.zeros((samples, nr_pos))\n",
    "\n",
    "for i in range(samples):\n",
    "    heights[i,:] = rng.dirichlet(dirichlet_para)"
   ]
  },
  {
   "cell_type": "markdown",
   "metadata": {},
   "source": [
    "Finally, we calculate the barycenter using the greedy barcenter method."
   ]
  },
  {
   "cell_type": "code",
   "execution_count": 10,
   "metadata": {},
   "outputs": [],
   "source": [
    "# The positions of the barycenter in R^30 and the mass in each position.  \n",
    "bary_pos, bary_heights = bary_hierarchical(posns, heights, verbose=0) "
   ]
  },
  {
   "cell_type": "markdown",
   "metadata": {},
   "source": [
    "Since our stocks are discrete, but the calculated barycenter has free support we now apply a nearest neighbour approach to the barycenter and save the positions of the new barycenter stocks and their weights in a dictionary. "
   ]
  },
  {
   "cell_type": "code",
   "execution_count": 11,
   "metadata": {
    "scrolled": true
   },
   "outputs": [],
   "source": [
    "closest_stocks = {}\n",
    "i = 0\n",
    "for pos in bary_pos:\n",
    "    code, location = closest(pos, STOCK_LISTINGS, f)\n",
    "    if code in closest_stocks:\n",
    "        closest_stocks[code][0] += bary_heights[i]\n",
    "    else:\n",
    "        closest_stocks[code] = [bary_heights[i], location]\n",
    "    i += 1"
   ]
  },
  {
   "cell_type": "markdown",
   "metadata": {},
   "source": [
    "We apply a principal component analysis fitted to the calculated barycenter and omit positions with very small weights to reduce clutter on the graphics. We also set some other variables that are needed for plotting."
   ]
  },
  {
   "cell_type": "code",
   "execution_count": 12,
   "metadata": {},
   "outputs": [
    {
     "name": "stdout",
     "output_type": "stream",
     "text": [
      "['012450']\n"
     ]
    }
   ],
   "source": [
    "stock_codes = []\n",
    "for key in closest_stocks.keys():\n",
    "    if closest_stocks[key][0] > 0.01:\n",
    "        stock_codes.append(key)\n",
    "        \n",
    "print(stock_codes)\n",
    " \n",
    "# Pca is fitted to free support barycenter. Yields 2 most \"relevant\" dimensions.\n",
    "dimreduction = PCA(n_components=2)\n",
    "dimreduction.fit(bary_pos)\n",
    "\n",
    "closest_relevant_locations = np.array([closest_stocks[code][1] for code in stock_codes])\n",
    "\n",
    "closest_relevant_locations_reduced = dimreduction.transform(closest_relevant_locations)\n",
    "\n",
    "closest_relevant_heights = np.array([closest_stocks[code][0] for code in stock_codes])"
   ]
  },
  {
   "cell_type": "markdown",
   "metadata": {},
   "source": [
    "Here, we plot the OT barycenter before the nearest neighbour function is applied.  "
   ]
  },
  {
   "cell_type": "code",
   "execution_count": 13,
   "metadata": {
    "scrolled": true
   },
   "outputs": [
    {
     "data": {
      "image/png": "[encoded data removed]",
      "text/plain": [
       "<Figure size 1080x1080 with 1 Axes>"
      ]
     },
     "metadata": {
      "needs_background": "light"
     },
     "output_type": "display_data"
    }
   ],
   "source": [
    "scatter_atomic(dimreduction.transform(bary_pos), bary_heights, xmarkers=False, pca = False, redxmarker_posns = dimreduction.transform(posns), bluexmarker_posns = dimreduction.transform(center) , scale=15, disk_size=2000)\n"
   ]
  },
  {
   "cell_type": "markdown",
   "metadata": {},
   "source": [
    "Then the same OT barycenter with the nearest neighbour function applied."
   ]
  },
  {
   "cell_type": "code",
   "execution_count": 14,
   "metadata": {},
   "outputs": [
    {
     "data": {
      "image/png": "[encoded data removed]",
      "text/plain": [
       "<Figure size 1080x1080 with 1 Axes>"
      ]
     },
     "metadata": {
      "needs_background": "light"
     },
     "output_type": "display_data"
    }
   ],
   "source": [
    "scatter_atomic(closest_relevant_locations_reduced, closest_relevant_heights, xmarkers=False, redxmarker_posns = dimreduction.transform(posns), scale=15, disk_size=2000)"
   ]
  },
  {
   "cell_type": "markdown",
   "metadata": {},
   "source": [
    "For completeness, I also tried to calculate the discrete OT barycenter using the POT library (this algorthim uses a regularized version of OT). This was not really successful, since if the regularization parameter is chosen sufficiently small enough, the function runs into numerical issues. The problem seems the be the small mass that is given to most of the stocks by the dirichlet distribution.    "
   ]
  },
  {
   "cell_type": "code",
   "execution_count": null,
   "metadata": {},
   "outputs": [],
   "source": [
    "\n",
    "\n",
    "M = create_dist_matrix(f)\n",
    "A = np.zeros((nr_stocks, samples))\n",
    "\n",
    "# I tried setting A to a matrix of small values, i.e. 0.001 and compensating for this in the heights \n",
    "# as well, but it unfourtunatly did not imporve performance. \n",
    "\n",
    "A[44,:]  = heights[:,0] \n",
    "A[60]    = heights[:,1]\n",
    "A[96,:]  = heights[:,2]\n",
    "A[155,:] = heights[:,3]\n",
    "A[514,:] = heights[:,4]\n",
    "\n",
    "# The last arguemnt in this function is the regularization parameter. The smaller it is the more \n",
    "# accurate the OT barycenter. It is maybe possible to interpret a trend towards the center for smaller\n",
    "# and smaller values, but I would call this inconclusive. \n",
    "discrete_bary_heights = ot.bregman.barycenter_stabilized(A, M, 0.1)\n",
    "\n",
    "# Here I get rid of the positions with the smallest mass. Otherwise the plot tries to display all outliers\n",
    "# and it becomes very difficult to see anything.\n",
    "for i in range(nr_stocks):\n",
    "        if discrete_bary_heights[i] < 0.01:\n",
    "            discrete_bary_heights[i] = 0\n",
    "\n",
    "\n"
   ]
  },
  {
   "cell_type": "code",
   "execution_count": 16,
   "metadata": {},
   "outputs": [
    {
     "data": {
      "image/png": "[encoded data removed]",
      "text/plain": [
       "<Figure size 1080x1080 with 1 Axes>"
      ]
     },
     "metadata": {
      "needs_background": "light"
     },
     "output_type": "display_data"
    }
   ],
   "source": [
    "scatter_atomic(f, discrete_bary_heights, xmarkers=False, pca = True, redxmarker_posns = posns, scale=15, disk_size=2000)"
   ]
  },
  {
   "cell_type": "code",
   "execution_count": null,
   "metadata": {},
   "outputs": [],
   "source": []
  }
 ],
 "metadata": {
  "kernelspec": {
   "display_name": "Python 3",
   "language": "python",
   "name": "python3"
  },
  "language_info": {
   "codemirror_mode": {
    "name": "ipython",
    "version": 3
   },
   "file_extension": ".py",
   "mimetype": "text/x-python",
   "name": "python",
   "nbconvert_exporter": "python",
   "pygments_lexer": "ipython3",
   "version": "3.8.5"
  }
 },
 "nbformat": 4,
 "nbformat_minor": 4
}
